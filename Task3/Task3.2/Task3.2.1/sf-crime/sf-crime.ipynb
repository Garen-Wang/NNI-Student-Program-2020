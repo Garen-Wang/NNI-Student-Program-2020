{
 "cells": [
  {
   "cell_type": "code",
   "execution_count": 1,
   "metadata": {},
   "outputs": [],
   "source": [
    "import warnings\n",
    "warnings.filterwarnings('ignore')\n",
    "import numpy as np\n",
    "import pandas as pd\n",
    "import seaborn as sns\n",
    "import matplotlib.pyplot as plt"
   ]
  },
  {
   "cell_type": "markdown",
   "metadata": {},
   "source": [
    "新建一个full数据集方便训练集和测试集的数据处理。\n",
    "训练的时候id是没用的，所以先把测试集的id那一列先提取出来，再删掉。"
   ]
  },
  {
   "cell_type": "code",
   "execution_count": 2,
   "metadata": {},
   "outputs": [],
   "source": [
    "train = pd.read_csv('~/data/task3_2/sf-crime/train.csv')\n",
    "test = pd.read_csv('~/data/task3_2/sf-crime/test.csv')\n",
    "full = train.append(test, ignore_index=True)\n",
    "test_id = full[train.shape[0]:]['Id'].astype(int)\n",
    "full = full.drop(['Id'], axis=1)"
   ]
  },
  {
   "cell_type": "code",
   "execution_count": 3,
   "metadata": {},
   "outputs": [],
   "source": [
    "locations = set()\n",
    "def getLocation(x):\n",
    "    if 'Block' in x:\n",
    "        locations.add(x.split('of')[-1].strip())\n",
    "        return [x.split('of')[-1].strip()]\n",
    "    else:\n",
    "        locations.add(x.split('/')[0].strip())\n",
    "        locations.add(x.split('/')[1].strip())\n",
    "        return [x.split('/')[0].strip(), x.split('/')[1].strip()]\n",
    "full['Locations'] = full['Address'].apply(getLocation)\n"
   ]
  },
  {
   "cell_type": "code",
   "execution_count": 4,
   "metadata": {},
   "outputs": [
    {
     "data": {
      "text/plain": [
       "0                 [OAK ST, LAGUNA ST]\n",
       "1                 [OAK ST, LAGUNA ST]\n",
       "2          [VANNESS AV, GREENWICH ST]\n",
       "3                        [LOMBARD ST]\n",
       "4                      [BRODERICK ST]\n",
       "                      ...            \n",
       "1762306                   [BRYANT ST]\n",
       "1762307               [WASHINGTON ST]\n",
       "1762308                  [MISSION ST]\n",
       "1762309                   [HUDSON AV]\n",
       "1762310                    [SLOAT BL]\n",
       "Name: Locations, Length: 1762311, dtype: object"
      ]
     },
     "execution_count": 4,
     "metadata": {},
     "output_type": "execute_result"
    }
   ],
   "source": [
    "full['Locations']"
   ]
  },
  {
   "cell_type": "code",
   "execution_count": 5,
   "metadata": {},
   "outputs": [],
   "source": [
    "locations = list(locations)\n",
    "for location in locations:\n",
    "    if len(location.split(' ')[-1]) != 2:\n",
    "        locations.remove(location)"
   ]
  },
  {
   "cell_type": "code",
   "execution_count": 6,
   "metadata": {},
   "outputs": [
    {
     "data": {
      "text/plain": [
       "['PL',\n",
       " 'WK',\n",
       " 'WY',\n",
       " 'AV',\n",
       " 'DR',\n",
       " 'HY',\n",
       " 'PZ',\n",
       " 'TR',\n",
       " 'RD',\n",
       " 'ST',\n",
       " 'LN',\n",
       " 'RW',\n",
       " 'CR',\n",
       " 'BL',\n",
       " 'AL',\n",
       " 'CT',\n",
       " 'EX']"
      ]
     },
     "execution_count": 6,
     "metadata": {},
     "output_type": "execute_result"
    }
   ],
   "source": [
    "suffixes = set()\n",
    "for location in locations:\n",
    "    suffixes.add(location.split(' ')[-1])\n",
    "suffixes = list(suffixes)\n",
    "suffixes"
   ]
  },
  {
   "cell_type": "code",
   "execution_count": 7,
   "metadata": {},
   "outputs": [],
   "source": [
    "# suffixes.append('OTHERS')\n",
    "def countSuffix(li, suffix):\n",
    "    cnt = 0\n",
    "    for x in li:\n",
    "        if x.split(' ')[-1] == suffix:\n",
    "            cnt += 1\n",
    "    return cnt\n",
    "\n",
    "for suffix in suffixes:\n",
    "    full['suffix-' + suffix] = full['Locations'].map(lambda x: countSuffix(x, suffix))"
   ]
  },
  {
   "cell_type": "code",
   "execution_count": 8,
   "metadata": {},
   "outputs": [],
   "source": [
    "def countOthers(li):\n",
    "    cnt = 0\n",
    "    for x in li:\n",
    "        if x.split(' ')[-1] not in suffixes:\n",
    "            cnt += 1\n",
    "    return cnt\n",
    "\n",
    "full['suffix-OTHERS'] = full['Locations'].map(countOthers)"
   ]
  },
  {
   "cell_type": "code",
   "execution_count": 9,
   "metadata": {},
   "outputs": [
    {
     "name": "stdout",
     "output_type": "stream",
     "text": [
      "<class 'pandas.core.frame.DataFrame'>\n",
      "RangeIndex: 1762311 entries, 0 to 1762310\n",
      "Data columns (total 28 columns):\n",
      " #   Column         Dtype  \n",
      "---  ------         -----  \n",
      " 0   Dates          object \n",
      " 1   Category       object \n",
      " 2   Descript       object \n",
      " 3   DayOfWeek      object \n",
      " 4   PdDistrict     object \n",
      " 5   Resolution     object \n",
      " 6   Address        object \n",
      " 7   X              float64\n",
      " 8   Y              float64\n",
      " 9   Locations      object \n",
      " 10  suffix-PL      int64  \n",
      " 11  suffix-WK      int64  \n",
      " 12  suffix-WY      int64  \n",
      " 13  suffix-AV      int64  \n",
      " 14  suffix-DR      int64  \n",
      " 15  suffix-HY      int64  \n",
      " 16  suffix-PZ      int64  \n",
      " 17  suffix-TR      int64  \n",
      " 18  suffix-RD      int64  \n",
      " 19  suffix-ST      int64  \n",
      " 20  suffix-LN      int64  \n",
      " 21  suffix-RW      int64  \n",
      " 22  suffix-CR      int64  \n",
      " 23  suffix-BL      int64  \n",
      " 24  suffix-AL      int64  \n",
      " 25  suffix-CT      int64  \n",
      " 26  suffix-EX      int64  \n",
      " 27  suffix-OTHERS  int64  \n",
      "dtypes: float64(2), int64(18), object(8)\n",
      "memory usage: 376.5+ MB\n"
     ]
    }
   ],
   "source": [
    "full.info()"
   ]
  },
  {
   "cell_type": "markdown",
   "metadata": {},
   "source": [
    "接下来我们一边看数据特征，一边给数据做处理。"
   ]
  },
  {
   "cell_type": "code",
   "execution_count": 10,
   "metadata": {},
   "outputs": [
    {
     "data": {
      "image/png": "[encoded data removed]",
      "text/plain": [
       "<Figure size 1008x720 with 1 Axes>"
      ]
     },
     "metadata": {
      "needs_background": "light"
     },
     "output_type": "display_data"
    }
   ],
   "source": [
    "plt.figure(figsize=(14, 10))\n",
    "train.groupby([train['Category']]).size().sort_values(ascending=True).plot(kind='barh')\n",
    "plt.show()\n",
    "# number of each category"
   ]
  },
  {
   "cell_type": "markdown",
   "metadata": {},
   "source": [
    "好家伙，可以看出绝大部分都是入室盗窃，其他罪行、无罪、袭击也占据一定比例。"
   ]
  },
  {
   "cell_type": "code",
   "execution_count": 11,
   "metadata": {},
   "outputs": [
    {
     "data": {
      "text/plain": [
       "Dates                 0\n",
       "Category         884262\n",
       "Descript         884262\n",
       "DayOfWeek             0\n",
       "PdDistrict            0\n",
       "Resolution       884262\n",
       "Address               0\n",
       "X                     0\n",
       "Y                     0\n",
       "Locations             0\n",
       "suffix-PL             0\n",
       "suffix-WK             0\n",
       "suffix-WY             0\n",
       "suffix-AV             0\n",
       "suffix-DR             0\n",
       "suffix-HY             0\n",
       "suffix-PZ             0\n",
       "suffix-TR             0\n",
       "suffix-RD             0\n",
       "suffix-ST             0\n",
       "suffix-LN             0\n",
       "suffix-RW             0\n",
       "suffix-CR             0\n",
       "suffix-BL             0\n",
       "suffix-AL             0\n",
       "suffix-CT             0\n",
       "suffix-EX             0\n",
       "suffix-OTHERS         0\n",
       "dtype: int64"
      ]
     },
     "execution_count": 11,
     "metadata": {},
     "output_type": "execute_result"
    }
   ],
   "source": [
    "full.isnull().sum()"
   ]
  },
  {
   "cell_type": "markdown",
   "metadata": {},
   "source": [
    "这里的Category就是我们需要做多分类预测的结果。Descript跟Resolution相对影响不大，是对Category的补充说明而已。\n",
    "这三个特征是用来监督训练结果的，通过Category的种类进行多分类。\n",
    "\n",
    "所以对Dates、DayOfWeek、PdDistrict、Address、X、Y这几个特征，我们开始做特征的处理。\n"
   ]
  },
  {
   "cell_type": "code",
   "execution_count": 12,
   "metadata": {},
   "outputs": [
    {
     "data": {
      "image/png": "[encoded data removed]",
      "text/plain": [
       "<Figure size 1008x720 with 1 Axes>"
      ]
     },
     "metadata": {
      "needs_background": "light"
     },
     "output_type": "display_data"
    }
   ],
   "source": [
    "plt.figure(figsize=(14, 10))\n",
    "train.groupby([train['DayOfWeek']]).size().sort_values(ascending=True).plot(kind='barh')\n",
    "plt.show()\n",
    "# distribution about day-of-the-week"
   ]
  },
  {
   "cell_type": "markdown",
   "metadata": {},
   "source": [
    "可以发现，犯罪的案件数跟是星期中的哪一天关系可以说不是很大，在星期中的每一天都比较均衡。\n",
    "\n",
    "不过在星期五最多，在星期天最少。这个信息也许可以拆成工作日跟非工作日的一个新特征。"
   ]
  },
  {
   "cell_type": "code",
   "execution_count": 13,
   "metadata": {
    "scrolled": false
   },
   "outputs": [
    {
     "data": {
      "image/png": "[encoded data removed]",
      "text/plain": [
       "<Figure size 1008x720 with 1 Axes>"
      ]
     },
     "metadata": {
      "needs_background": "light"
     },
     "output_type": "display_data"
    }
   ],
   "source": [
    "plt.figure(figsize=(14, 10))\n",
    "train.groupby([train['PdDistrict']]).size().sort_values(ascending=True).plot(kind='barh')\n",
    "plt.show()\n",
    "# distribution about PdDistict"
   ]
  },
  {
   "cell_type": "markdown",
   "metadata": {},
   "source": [
    "SF南部警区出现的犯罪案件数明显多余其他地方，北方跟Mission的警署也挺多的。"
   ]
  },
  {
   "cell_type": "code",
   "execution_count": 14,
   "metadata": {},
   "outputs": [],
   "source": [
    "\n",
    "train['Year'] = train['Dates'].map(lambda x: int(x.split('-')[0].strip()))\n",
    "full['Year'] = full['Dates'].map(lambda x: int(x.split('-')[0].strip()))\n",
    "\n",
    "train['Month'] = train['Dates'].map(lambda x: int(x.split('-')[1].strip()))\n",
    "full['Month'] = full['Dates'].map(lambda x: int(x.split('-')[1].strip()))\n",
    "\n",
    "train['Day'] = train['Dates'].map(lambda x: int(x.split('-')[1].strip()))\n",
    "full['Day'] = full['Dates'].map(lambda x: int(x.split('-')[1].strip()))\n"
   ]
  },
  {
   "cell_type": "code",
   "execution_count": 15,
   "metadata": {},
   "outputs": [],
   "source": [
    "def getSeason(n):\n",
    "    if 3 <= n <= 5:\n",
    "        return 1\n",
    "    elif 6 <= n <= 8:\n",
    "        return 2\n",
    "    elif 9 <= n <= 11:\n",
    "        return 3\n",
    "    elif n == 12 or 1 <= n <= 2:\n",
    "        return 4\n",
    "    else:\n",
    "        return 0\n",
    "\n",
    "train['Season'] = train['Month'].map(getSeason)\n",
    "full['Season'] = full['Month'].map(getSeason)"
   ]
  },
  {
   "cell_type": "code",
   "execution_count": 16,
   "metadata": {},
   "outputs": [
    {
     "data": {
      "image/png": "[encoded data removed]",
      "text/plain": [
       "<Figure size 1008x720 with 1 Axes>"
      ]
     },
     "metadata": {
      "needs_background": "light"
     },
     "output_type": "display_data"
    }
   ],
   "source": [
    "plt.figure(figsize=(14, 10))\n",
    "train.groupby('Season').size().sort_values(ascending=True).plot(kind='barh')\n",
    "plt.show()\n",
    "# distribution about season"
   ]
  },
  {
   "cell_type": "code",
   "execution_count": 17,
   "metadata": {},
   "outputs": [],
   "source": [
    "def getIsWeekday(day):\n",
    "    if day == 'Saturday' or day == 'Sunday':\n",
    "        return 0\n",
    "    else:\n",
    "        return 1\n",
    "\n",
    "train['IsWeekday'] = train['DayOfWeek'].map(getIsWeekday)\n",
    "full['IsWeekday'] = full['DayOfWeek'].map(getIsWeekday)"
   ]
  },
  {
   "cell_type": "code",
   "execution_count": 18,
   "metadata": {
    "scrolled": false
   },
   "outputs": [
    {
     "data": {
      "image/png": "[encoded data removed]",
      "text/plain": [
       "<Figure size 1008x720 with 1 Axes>"
      ]
     },
     "metadata": {
      "needs_background": "light"
     },
     "output_type": "display_data"
    }
   ],
   "source": [
    "plt.figure(figsize=(14, 10))\n",
    "train.groupby('IsWeekday').size().sort_values(ascending=True).plot(kind='barh')\n",
    "plt.show()\n",
    "# distribution about whether it is weekday"
   ]
  },
  {
   "cell_type": "code",
   "execution_count": 19,
   "metadata": {},
   "outputs": [],
   "source": [
    "def getHourZone(hour):\n",
    "    if 0 <= hour <= 8:\n",
    "        return 1\n",
    "    elif 9 <= hour <= 11:\n",
    "        return 2\n",
    "    elif 12 <= hour <= 13:\n",
    "        return 3\n",
    "    elif 14 <= hour <= 16:\n",
    "        return 4\n",
    "    elif 17 <= hour <= 19:\n",
    "        return 5\n",
    "    elif 20 <= hour <= 23:\n",
    "        return 6\n",
    "    else:\n",
    "        return 0\n",
    "train['Hour'] = train['Dates'].map(lambda x: int(x.split(' ')[1].split(':')[0].strip()))\n",
    "full['Hour'] = full['Dates'].map(lambda x: int(x.split(' ')[1].split(':')[0].strip()))\n",
    "\n",
    "train['HourZone'] = train['Hour'].map(getHourZone)\n",
    "full['HourZone'] = full['Hour'].map(getHourZone)"
   ]
  },
  {
   "cell_type": "code",
   "execution_count": 20,
   "metadata": {},
   "outputs": [
    {
     "data": {
      "image/png": "[encoded data removed]",
      "text/plain": [
       "<Figure size 1008x720 with 1 Axes>"
      ]
     },
     "metadata": {
      "needs_background": "light"
     },
     "output_type": "display_data"
    }
   ],
   "source": [
    "plt.figure(figsize=(14, 10))\n",
    "train.groupby('HourZone').size().sort_values(ascending=True).plot(kind='barh')\n",
    "plt.show()\n",
    "# distribution about whether it is weekday"
   ]
  },
  {
   "cell_type": "markdown",
   "metadata": {},
   "source": [
    "好家伙，这个数据结果非常符合先验知识，在夜晚的犯罪案件要显著多于白天，并且半夜是最多的。"
   ]
  },
  {
   "cell_type": "code",
   "execution_count": 21,
   "metadata": {},
   "outputs": [
    {
     "data": {
      "image/png": "[encoded data removed]",
      "text/plain": [
       "<Figure size 720x720 with 1 Axes>"
      ]
     },
     "metadata": {
      "needs_background": "light"
     },
     "output_type": "display_data"
    }
   ],
   "source": [
    "plt.figure(figsize=(10, 10))\n",
    "plt.scatter(train['X'], train['Y'], marker='.')\n",
    "plt.show()"
   ]
  },
  {
   "cell_type": "markdown",
   "metadata": {},
   "source": [
    "维度到了北纬90度就离谱。所以我们需要处理异常值，把大于北纬40度的数据全删了。"
   ]
  },
  {
   "cell_type": "code",
   "execution_count": 22,
   "metadata": {},
   "outputs": [
    {
     "data": {
      "image/png": "[encoded data removed]",
      "text/plain": [
       "<Figure size 720x720 with 1 Axes>"
      ]
     },
     "metadata": {
      "needs_background": "light"
     },
     "output_type": "display_data"
    }
   ],
   "source": [
    "temp = train[train['Y'] < 40]\n",
    "plt.figure(figsize=(10, 10))\n",
    "plt.scatter(temp['X'], temp['Y'], marker='.')\n",
    "plt.show()\n",
    "# don't change test here"
   ]
  },
  {
   "cell_type": "markdown",
   "metadata": {},
   "source": [
    "更奇妙的是，居然在测试集里还出现了76个北纬90度的东西。\n",
    "肯定是坐标未知，这种情况我们弄个众数、中位数或者平均数去填补缺失数据。"
   ]
  },
  {
   "cell_type": "code",
   "execution_count": 23,
   "metadata": {},
   "outputs": [],
   "source": [
    "import re\n",
    "def getAddressType(addr):\n",
    "    if 'Block' in addr:\n",
    "        return 1\n",
    "    else:\n",
    "        return 0\n",
    "\n",
    "def getAddressNum(addr):\n",
    "    temp = re.findall(r\"\\d+\", addr)\n",
    "    if len(temp) == 0:\n",
    "        return -1\n",
    "    else:\n",
    "        return int(temp[0])\n",
    "\n",
    "train['AddressType'] = train['Address'].map(getAddressType)\n",
    "train['AddressNum'] = train['Address'].map(getAddressNum)\n",
    "full['AddressType'] = full['Address'].map(getAddressType)\n",
    "full['AddressNum'] = full['Address'].map(getAddressNum)"
   ]
  },
  {
   "cell_type": "code",
   "execution_count": 24,
   "metadata": {},
   "outputs": [],
   "source": [
    "dayofweek_dict = {\n",
    "    'Monday': 1,\n",
    "    'Tuesday': 2,\n",
    "    'Wednesday': 3,\n",
    "    'Thursday': 4,\n",
    "    'Friday': 5,\n",
    "    'Saturday': 6,\n",
    "    'Sunday': 7\n",
    "}\n",
    "full['DayOfWeek'] = full['DayOfWeek'].map(lambda x: dayofweek_dict[x])\n"
   ]
  },
  {
   "cell_type": "code",
   "execution_count": 25,
   "metadata": {},
   "outputs": [],
   "source": [
    "full = full.drop(['Descript', 'Resolution', 'Address', 'Dates'], axis=1)\n",
    "train = train.drop(['Descript', 'Resolution', 'Address', 'Dates'], axis=1)"
   ]
  },
  {
   "cell_type": "code",
   "execution_count": 26,
   "metadata": {},
   "outputs": [
    {
     "data": {
      "text/html": [
       "<div>\n",
       "<style scoped>\n",
       "    .dataframe tbody tr th:only-of-type {\n",
       "        vertical-align: middle;\n",
       "    }\n",
       "\n",
       "    .dataframe tbody tr th {\n",
       "        vertical-align: top;\n",
       "    }\n",
       "\n",
       "    .dataframe thead th {\n",
       "        text-align: right;\n",
       "    }\n",
       "</style>\n",
       "<table border=\"1\" class=\"dataframe\">\n",
       "  <thead>\n",
       "    <tr style=\"text-align: right;\">\n",
       "      <th></th>\n",
       "      <th>Category</th>\n",
       "      <th>DayOfWeek</th>\n",
       "      <th>PdDistrict</th>\n",
       "      <th>X</th>\n",
       "      <th>Y</th>\n",
       "      <th>Locations</th>\n",
       "      <th>suffix-PL</th>\n",
       "      <th>suffix-WK</th>\n",
       "      <th>suffix-WY</th>\n",
       "      <th>suffix-AV</th>\n",
       "      <th>...</th>\n",
       "      <th>suffix-OTHERS</th>\n",
       "      <th>Year</th>\n",
       "      <th>Month</th>\n",
       "      <th>Day</th>\n",
       "      <th>Season</th>\n",
       "      <th>IsWeekday</th>\n",
       "      <th>Hour</th>\n",
       "      <th>HourZone</th>\n",
       "      <th>AddressType</th>\n",
       "      <th>AddressNum</th>\n",
       "    </tr>\n",
       "  </thead>\n",
       "  <tbody>\n",
       "    <tr>\n",
       "      <th>0</th>\n",
       "      <td>WARRANTS</td>\n",
       "      <td>3</td>\n",
       "      <td>NORTHERN</td>\n",
       "      <td>-122.425892</td>\n",
       "      <td>37.774599</td>\n",
       "      <td>[OAK ST, LAGUNA ST]</td>\n",
       "      <td>0</td>\n",
       "      <td>0</td>\n",
       "      <td>0</td>\n",
       "      <td>0</td>\n",
       "      <td>...</td>\n",
       "      <td>0</td>\n",
       "      <td>2015</td>\n",
       "      <td>5</td>\n",
       "      <td>5</td>\n",
       "      <td>1</td>\n",
       "      <td>1</td>\n",
       "      <td>23</td>\n",
       "      <td>6</td>\n",
       "      <td>0</td>\n",
       "      <td>-1</td>\n",
       "    </tr>\n",
       "    <tr>\n",
       "      <th>1</th>\n",
       "      <td>OTHER OFFENSES</td>\n",
       "      <td>3</td>\n",
       "      <td>NORTHERN</td>\n",
       "      <td>-122.425892</td>\n",
       "      <td>37.774599</td>\n",
       "      <td>[OAK ST, LAGUNA ST]</td>\n",
       "      <td>0</td>\n",
       "      <td>0</td>\n",
       "      <td>0</td>\n",
       "      <td>0</td>\n",
       "      <td>...</td>\n",
       "      <td>0</td>\n",
       "      <td>2015</td>\n",
       "      <td>5</td>\n",
       "      <td>5</td>\n",
       "      <td>1</td>\n",
       "      <td>1</td>\n",
       "      <td>23</td>\n",
       "      <td>6</td>\n",
       "      <td>0</td>\n",
       "      <td>-1</td>\n",
       "    </tr>\n",
       "    <tr>\n",
       "      <th>2</th>\n",
       "      <td>OTHER OFFENSES</td>\n",
       "      <td>3</td>\n",
       "      <td>NORTHERN</td>\n",
       "      <td>-122.424363</td>\n",
       "      <td>37.800414</td>\n",
       "      <td>[VANNESS AV, GREENWICH ST]</td>\n",
       "      <td>0</td>\n",
       "      <td>0</td>\n",
       "      <td>0</td>\n",
       "      <td>1</td>\n",
       "      <td>...</td>\n",
       "      <td>0</td>\n",
       "      <td>2015</td>\n",
       "      <td>5</td>\n",
       "      <td>5</td>\n",
       "      <td>1</td>\n",
       "      <td>1</td>\n",
       "      <td>23</td>\n",
       "      <td>6</td>\n",
       "      <td>0</td>\n",
       "      <td>-1</td>\n",
       "    </tr>\n",
       "    <tr>\n",
       "      <th>3</th>\n",
       "      <td>LARCENY/THEFT</td>\n",
       "      <td>3</td>\n",
       "      <td>NORTHERN</td>\n",
       "      <td>-122.426995</td>\n",
       "      <td>37.800873</td>\n",
       "      <td>[LOMBARD ST]</td>\n",
       "      <td>0</td>\n",
       "      <td>0</td>\n",
       "      <td>0</td>\n",
       "      <td>0</td>\n",
       "      <td>...</td>\n",
       "      <td>0</td>\n",
       "      <td>2015</td>\n",
       "      <td>5</td>\n",
       "      <td>5</td>\n",
       "      <td>1</td>\n",
       "      <td>1</td>\n",
       "      <td>23</td>\n",
       "      <td>6</td>\n",
       "      <td>1</td>\n",
       "      <td>1500</td>\n",
       "    </tr>\n",
       "    <tr>\n",
       "      <th>4</th>\n",
       "      <td>LARCENY/THEFT</td>\n",
       "      <td>3</td>\n",
       "      <td>PARK</td>\n",
       "      <td>-122.438738</td>\n",
       "      <td>37.771541</td>\n",
       "      <td>[BRODERICK ST]</td>\n",
       "      <td>0</td>\n",
       "      <td>0</td>\n",
       "      <td>0</td>\n",
       "      <td>0</td>\n",
       "      <td>...</td>\n",
       "      <td>0</td>\n",
       "      <td>2015</td>\n",
       "      <td>5</td>\n",
       "      <td>5</td>\n",
       "      <td>1</td>\n",
       "      <td>1</td>\n",
       "      <td>23</td>\n",
       "      <td>6</td>\n",
       "      <td>1</td>\n",
       "      <td>100</td>\n",
       "    </tr>\n",
       "    <tr>\n",
       "      <th>...</th>\n",
       "      <td>...</td>\n",
       "      <td>...</td>\n",
       "      <td>...</td>\n",
       "      <td>...</td>\n",
       "      <td>...</td>\n",
       "      <td>...</td>\n",
       "      <td>...</td>\n",
       "      <td>...</td>\n",
       "      <td>...</td>\n",
       "      <td>...</td>\n",
       "      <td>...</td>\n",
       "      <td>...</td>\n",
       "      <td>...</td>\n",
       "      <td>...</td>\n",
       "      <td>...</td>\n",
       "      <td>...</td>\n",
       "      <td>...</td>\n",
       "      <td>...</td>\n",
       "      <td>...</td>\n",
       "      <td>...</td>\n",
       "      <td>...</td>\n",
       "    </tr>\n",
       "    <tr>\n",
       "      <th>1762306</th>\n",
       "      <td>NaN</td>\n",
       "      <td>3</td>\n",
       "      <td>MISSION</td>\n",
       "      <td>-122.408983</td>\n",
       "      <td>37.751987</td>\n",
       "      <td>[BRYANT ST]</td>\n",
       "      <td>0</td>\n",
       "      <td>0</td>\n",
       "      <td>0</td>\n",
       "      <td>0</td>\n",
       "      <td>...</td>\n",
       "      <td>0</td>\n",
       "      <td>2003</td>\n",
       "      <td>1</td>\n",
       "      <td>1</td>\n",
       "      <td>4</td>\n",
       "      <td>1</td>\n",
       "      <td>0</td>\n",
       "      <td>1</td>\n",
       "      <td>1</td>\n",
       "      <td>2600</td>\n",
       "    </tr>\n",
       "    <tr>\n",
       "      <th>1762307</th>\n",
       "      <td>NaN</td>\n",
       "      <td>3</td>\n",
       "      <td>NORTHERN</td>\n",
       "      <td>-122.425342</td>\n",
       "      <td>37.792681</td>\n",
       "      <td>[WASHINGTON ST]</td>\n",
       "      <td>0</td>\n",
       "      <td>0</td>\n",
       "      <td>0</td>\n",
       "      <td>0</td>\n",
       "      <td>...</td>\n",
       "      <td>0</td>\n",
       "      <td>2003</td>\n",
       "      <td>1</td>\n",
       "      <td>1</td>\n",
       "      <td>4</td>\n",
       "      <td>1</td>\n",
       "      <td>0</td>\n",
       "      <td>1</td>\n",
       "      <td>1</td>\n",
       "      <td>1900</td>\n",
       "    </tr>\n",
       "    <tr>\n",
       "      <th>1762308</th>\n",
       "      <td>NaN</td>\n",
       "      <td>3</td>\n",
       "      <td>INGLESIDE</td>\n",
       "      <td>-122.445418</td>\n",
       "      <td>37.712075</td>\n",
       "      <td>[MISSION ST]</td>\n",
       "      <td>0</td>\n",
       "      <td>0</td>\n",
       "      <td>0</td>\n",
       "      <td>0</td>\n",
       "      <td>...</td>\n",
       "      <td>0</td>\n",
       "      <td>2003</td>\n",
       "      <td>1</td>\n",
       "      <td>1</td>\n",
       "      <td>4</td>\n",
       "      <td>1</td>\n",
       "      <td>0</td>\n",
       "      <td>1</td>\n",
       "      <td>1</td>\n",
       "      <td>5500</td>\n",
       "    </tr>\n",
       "    <tr>\n",
       "      <th>1762309</th>\n",
       "      <td>NaN</td>\n",
       "      <td>3</td>\n",
       "      <td>BAYVIEW</td>\n",
       "      <td>-122.387394</td>\n",
       "      <td>37.739479</td>\n",
       "      <td>[HUDSON AV]</td>\n",
       "      <td>0</td>\n",
       "      <td>0</td>\n",
       "      <td>0</td>\n",
       "      <td>1</td>\n",
       "      <td>...</td>\n",
       "      <td>0</td>\n",
       "      <td>2003</td>\n",
       "      <td>1</td>\n",
       "      <td>1</td>\n",
       "      <td>4</td>\n",
       "      <td>1</td>\n",
       "      <td>0</td>\n",
       "      <td>1</td>\n",
       "      <td>1</td>\n",
       "      <td>1500</td>\n",
       "    </tr>\n",
       "    <tr>\n",
       "      <th>1762310</th>\n",
       "      <td>NaN</td>\n",
       "      <td>3</td>\n",
       "      <td>TARAVAL</td>\n",
       "      <td>-122.489714</td>\n",
       "      <td>37.733950</td>\n",
       "      <td>[SLOAT BL]</td>\n",
       "      <td>0</td>\n",
       "      <td>0</td>\n",
       "      <td>0</td>\n",
       "      <td>0</td>\n",
       "      <td>...</td>\n",
       "      <td>0</td>\n",
       "      <td>2003</td>\n",
       "      <td>1</td>\n",
       "      <td>1</td>\n",
       "      <td>4</td>\n",
       "      <td>1</td>\n",
       "      <td>0</td>\n",
       "      <td>1</td>\n",
       "      <td>1</td>\n",
       "      <td>1500</td>\n",
       "    </tr>\n",
       "  </tbody>\n",
       "</table>\n",
       "<p>1762311 rows × 33 columns</p>\n",
       "</div>"
      ],
      "text/plain": [
       "               Category  DayOfWeek PdDistrict           X          Y  \\\n",
       "0              WARRANTS          3   NORTHERN -122.425892  37.774599   \n",
       "1        OTHER OFFENSES          3   NORTHERN -122.425892  37.774599   \n",
       "2        OTHER OFFENSES          3   NORTHERN -122.424363  37.800414   \n",
       "3         LARCENY/THEFT          3   NORTHERN -122.426995  37.800873   \n",
       "4         LARCENY/THEFT          3       PARK -122.438738  37.771541   \n",
       "...                 ...        ...        ...         ...        ...   \n",
       "1762306             NaN          3    MISSION -122.408983  37.751987   \n",
       "1762307             NaN          3   NORTHERN -122.425342  37.792681   \n",
       "1762308             NaN          3  INGLESIDE -122.445418  37.712075   \n",
       "1762309             NaN          3    BAYVIEW -122.387394  37.739479   \n",
       "1762310             NaN          3    TARAVAL -122.489714  37.733950   \n",
       "\n",
       "                          Locations  suffix-PL  suffix-WK  suffix-WY  \\\n",
       "0               [OAK ST, LAGUNA ST]          0          0          0   \n",
       "1               [OAK ST, LAGUNA ST]          0          0          0   \n",
       "2        [VANNESS AV, GREENWICH ST]          0          0          0   \n",
       "3                      [LOMBARD ST]          0          0          0   \n",
       "4                    [BRODERICK ST]          0          0          0   \n",
       "...                             ...        ...        ...        ...   \n",
       "1762306                 [BRYANT ST]          0          0          0   \n",
       "1762307             [WASHINGTON ST]          0          0          0   \n",
       "1762308                [MISSION ST]          0          0          0   \n",
       "1762309                 [HUDSON AV]          0          0          0   \n",
       "1762310                  [SLOAT BL]          0          0          0   \n",
       "\n",
       "         suffix-AV  ...  suffix-OTHERS  Year  Month  Day  Season  IsWeekday  \\\n",
       "0                0  ...              0  2015      5    5       1          1   \n",
       "1                0  ...              0  2015      5    5       1          1   \n",
       "2                1  ...              0  2015      5    5       1          1   \n",
       "3                0  ...              0  2015      5    5       1          1   \n",
       "4                0  ...              0  2015      5    5       1          1   \n",
       "...            ...  ...            ...   ...    ...  ...     ...        ...   \n",
       "1762306          0  ...              0  2003      1    1       4          1   \n",
       "1762307          0  ...              0  2003      1    1       4          1   \n",
       "1762308          0  ...              0  2003      1    1       4          1   \n",
       "1762309          1  ...              0  2003      1    1       4          1   \n",
       "1762310          0  ...              0  2003      1    1       4          1   \n",
       "\n",
       "         Hour  HourZone  AddressType  AddressNum  \n",
       "0          23         6            0          -1  \n",
       "1          23         6            0          -1  \n",
       "2          23         6            0          -1  \n",
       "3          23         6            1        1500  \n",
       "4          23         6            1         100  \n",
       "...       ...       ...          ...         ...  \n",
       "1762306     0         1            1        2600  \n",
       "1762307     0         1            1        1900  \n",
       "1762308     0         1            1        5500  \n",
       "1762309     0         1            1        1500  \n",
       "1762310     0         1            1        1500  \n",
       "\n",
       "[1762311 rows x 33 columns]"
      ]
     },
     "execution_count": 26,
     "metadata": {},
     "output_type": "execute_result"
    }
   ],
   "source": [
    "full"
   ]
  },
  {
   "cell_type": "code",
   "execution_count": 27,
   "metadata": {},
   "outputs": [
    {
     "data": {
      "text/html": [
       "<div>\n",
       "<style scoped>\n",
       "    .dataframe tbody tr th:only-of-type {\n",
       "        vertical-align: middle;\n",
       "    }\n",
       "\n",
       "    .dataframe tbody tr th {\n",
       "        vertical-align: top;\n",
       "    }\n",
       "\n",
       "    .dataframe thead th {\n",
       "        text-align: right;\n",
       "    }\n",
       "</style>\n",
       "<table border=\"1\" class=\"dataframe\">\n",
       "  <thead>\n",
       "    <tr style=\"text-align: right;\">\n",
       "      <th></th>\n",
       "      <th>Category</th>\n",
       "      <th>DayOfWeek</th>\n",
       "      <th>PdDistrict</th>\n",
       "      <th>X</th>\n",
       "      <th>Y</th>\n",
       "      <th>Locations</th>\n",
       "      <th>suffix-PL</th>\n",
       "      <th>suffix-WK</th>\n",
       "      <th>suffix-WY</th>\n",
       "      <th>suffix-AV</th>\n",
       "      <th>...</th>\n",
       "      <th>suffix-OTHERS</th>\n",
       "      <th>Year</th>\n",
       "      <th>Month</th>\n",
       "      <th>Day</th>\n",
       "      <th>Season</th>\n",
       "      <th>IsWeekday</th>\n",
       "      <th>Hour</th>\n",
       "      <th>HourZone</th>\n",
       "      <th>AddressType</th>\n",
       "      <th>AddressNum</th>\n",
       "    </tr>\n",
       "  </thead>\n",
       "  <tbody>\n",
       "    <tr>\n",
       "      <th>0</th>\n",
       "      <td>WARRANTS</td>\n",
       "      <td>3</td>\n",
       "      <td>4</td>\n",
       "      <td>-122.425892</td>\n",
       "      <td>37.774599</td>\n",
       "      <td>[OAK ST, LAGUNA ST]</td>\n",
       "      <td>0</td>\n",
       "      <td>0</td>\n",
       "      <td>0</td>\n",
       "      <td>0</td>\n",
       "      <td>...</td>\n",
       "      <td>0</td>\n",
       "      <td>2015</td>\n",
       "      <td>5</td>\n",
       "      <td>5</td>\n",
       "      <td>1</td>\n",
       "      <td>1</td>\n",
       "      <td>23</td>\n",
       "      <td>6</td>\n",
       "      <td>0</td>\n",
       "      <td>0</td>\n",
       "    </tr>\n",
       "    <tr>\n",
       "      <th>1</th>\n",
       "      <td>OTHER OFFENSES</td>\n",
       "      <td>3</td>\n",
       "      <td>4</td>\n",
       "      <td>-122.425892</td>\n",
       "      <td>37.774599</td>\n",
       "      <td>[OAK ST, LAGUNA ST]</td>\n",
       "      <td>0</td>\n",
       "      <td>0</td>\n",
       "      <td>0</td>\n",
       "      <td>0</td>\n",
       "      <td>...</td>\n",
       "      <td>0</td>\n",
       "      <td>2015</td>\n",
       "      <td>5</td>\n",
       "      <td>5</td>\n",
       "      <td>1</td>\n",
       "      <td>1</td>\n",
       "      <td>23</td>\n",
       "      <td>6</td>\n",
       "      <td>0</td>\n",
       "      <td>0</td>\n",
       "    </tr>\n",
       "    <tr>\n",
       "      <th>2</th>\n",
       "      <td>OTHER OFFENSES</td>\n",
       "      <td>3</td>\n",
       "      <td>4</td>\n",
       "      <td>-122.424363</td>\n",
       "      <td>37.800414</td>\n",
       "      <td>[VANNESS AV, GREENWICH ST]</td>\n",
       "      <td>0</td>\n",
       "      <td>0</td>\n",
       "      <td>0</td>\n",
       "      <td>1</td>\n",
       "      <td>...</td>\n",
       "      <td>0</td>\n",
       "      <td>2015</td>\n",
       "      <td>5</td>\n",
       "      <td>5</td>\n",
       "      <td>1</td>\n",
       "      <td>1</td>\n",
       "      <td>23</td>\n",
       "      <td>6</td>\n",
       "      <td>0</td>\n",
       "      <td>0</td>\n",
       "    </tr>\n",
       "    <tr>\n",
       "      <th>3</th>\n",
       "      <td>LARCENY/THEFT</td>\n",
       "      <td>3</td>\n",
       "      <td>4</td>\n",
       "      <td>-122.426995</td>\n",
       "      <td>37.800873</td>\n",
       "      <td>[LOMBARD ST]</td>\n",
       "      <td>0</td>\n",
       "      <td>0</td>\n",
       "      <td>0</td>\n",
       "      <td>0</td>\n",
       "      <td>...</td>\n",
       "      <td>0</td>\n",
       "      <td>2015</td>\n",
       "      <td>5</td>\n",
       "      <td>5</td>\n",
       "      <td>1</td>\n",
       "      <td>1</td>\n",
       "      <td>23</td>\n",
       "      <td>6</td>\n",
       "      <td>1</td>\n",
       "      <td>67</td>\n",
       "    </tr>\n",
       "    <tr>\n",
       "      <th>4</th>\n",
       "      <td>LARCENY/THEFT</td>\n",
       "      <td>3</td>\n",
       "      <td>5</td>\n",
       "      <td>-122.438738</td>\n",
       "      <td>37.771541</td>\n",
       "      <td>[BRODERICK ST]</td>\n",
       "      <td>0</td>\n",
       "      <td>0</td>\n",
       "      <td>0</td>\n",
       "      <td>0</td>\n",
       "      <td>...</td>\n",
       "      <td>0</td>\n",
       "      <td>2015</td>\n",
       "      <td>5</td>\n",
       "      <td>5</td>\n",
       "      <td>1</td>\n",
       "      <td>1</td>\n",
       "      <td>23</td>\n",
       "      <td>6</td>\n",
       "      <td>1</td>\n",
       "      <td>51</td>\n",
       "    </tr>\n",
       "    <tr>\n",
       "      <th>...</th>\n",
       "      <td>...</td>\n",
       "      <td>...</td>\n",
       "      <td>...</td>\n",
       "      <td>...</td>\n",
       "      <td>...</td>\n",
       "      <td>...</td>\n",
       "      <td>...</td>\n",
       "      <td>...</td>\n",
       "      <td>...</td>\n",
       "      <td>...</td>\n",
       "      <td>...</td>\n",
       "      <td>...</td>\n",
       "      <td>...</td>\n",
       "      <td>...</td>\n",
       "      <td>...</td>\n",
       "      <td>...</td>\n",
       "      <td>...</td>\n",
       "      <td>...</td>\n",
       "      <td>...</td>\n",
       "      <td>...</td>\n",
       "      <td>...</td>\n",
       "    </tr>\n",
       "    <tr>\n",
       "      <th>1762306</th>\n",
       "      <td>NaN</td>\n",
       "      <td>3</td>\n",
       "      <td>3</td>\n",
       "      <td>-122.408983</td>\n",
       "      <td>37.751987</td>\n",
       "      <td>[BRYANT ST]</td>\n",
       "      <td>0</td>\n",
       "      <td>0</td>\n",
       "      <td>0</td>\n",
       "      <td>0</td>\n",
       "      <td>...</td>\n",
       "      <td>0</td>\n",
       "      <td>2003</td>\n",
       "      <td>1</td>\n",
       "      <td>1</td>\n",
       "      <td>4</td>\n",
       "      <td>1</td>\n",
       "      <td>0</td>\n",
       "      <td>1</td>\n",
       "      <td>1</td>\n",
       "      <td>78</td>\n",
       "    </tr>\n",
       "    <tr>\n",
       "      <th>1762307</th>\n",
       "      <td>NaN</td>\n",
       "      <td>3</td>\n",
       "      <td>4</td>\n",
       "      <td>-122.425342</td>\n",
       "      <td>37.792681</td>\n",
       "      <td>[WASHINGTON ST]</td>\n",
       "      <td>0</td>\n",
       "      <td>0</td>\n",
       "      <td>0</td>\n",
       "      <td>0</td>\n",
       "      <td>...</td>\n",
       "      <td>0</td>\n",
       "      <td>2003</td>\n",
       "      <td>1</td>\n",
       "      <td>1</td>\n",
       "      <td>4</td>\n",
       "      <td>1</td>\n",
       "      <td>0</td>\n",
       "      <td>1</td>\n",
       "      <td>1</td>\n",
       "      <td>71</td>\n",
       "    </tr>\n",
       "    <tr>\n",
       "      <th>1762308</th>\n",
       "      <td>NaN</td>\n",
       "      <td>3</td>\n",
       "      <td>2</td>\n",
       "      <td>-122.445418</td>\n",
       "      <td>37.712075</td>\n",
       "      <td>[MISSION ST]</td>\n",
       "      <td>0</td>\n",
       "      <td>0</td>\n",
       "      <td>0</td>\n",
       "      <td>0</td>\n",
       "      <td>...</td>\n",
       "      <td>0</td>\n",
       "      <td>2003</td>\n",
       "      <td>1</td>\n",
       "      <td>1</td>\n",
       "      <td>4</td>\n",
       "      <td>1</td>\n",
       "      <td>0</td>\n",
       "      <td>1</td>\n",
       "      <td>1</td>\n",
       "      <td>107</td>\n",
       "    </tr>\n",
       "    <tr>\n",
       "      <th>1762309</th>\n",
       "      <td>NaN</td>\n",
       "      <td>3</td>\n",
       "      <td>0</td>\n",
       "      <td>-122.387394</td>\n",
       "      <td>37.739479</td>\n",
       "      <td>[HUDSON AV]</td>\n",
       "      <td>0</td>\n",
       "      <td>0</td>\n",
       "      <td>0</td>\n",
       "      <td>1</td>\n",
       "      <td>...</td>\n",
       "      <td>0</td>\n",
       "      <td>2003</td>\n",
       "      <td>1</td>\n",
       "      <td>1</td>\n",
       "      <td>4</td>\n",
       "      <td>1</td>\n",
       "      <td>0</td>\n",
       "      <td>1</td>\n",
       "      <td>1</td>\n",
       "      <td>67</td>\n",
       "    </tr>\n",
       "    <tr>\n",
       "      <th>1762310</th>\n",
       "      <td>NaN</td>\n",
       "      <td>3</td>\n",
       "      <td>8</td>\n",
       "      <td>-122.489714</td>\n",
       "      <td>37.733950</td>\n",
       "      <td>[SLOAT BL]</td>\n",
       "      <td>0</td>\n",
       "      <td>0</td>\n",
       "      <td>0</td>\n",
       "      <td>0</td>\n",
       "      <td>...</td>\n",
       "      <td>0</td>\n",
       "      <td>2003</td>\n",
       "      <td>1</td>\n",
       "      <td>1</td>\n",
       "      <td>4</td>\n",
       "      <td>1</td>\n",
       "      <td>0</td>\n",
       "      <td>1</td>\n",
       "      <td>1</td>\n",
       "      <td>67</td>\n",
       "    </tr>\n",
       "  </tbody>\n",
       "</table>\n",
       "<p>1762311 rows × 33 columns</p>\n",
       "</div>"
      ],
      "text/plain": [
       "               Category  DayOfWeek  PdDistrict           X          Y  \\\n",
       "0              WARRANTS          3           4 -122.425892  37.774599   \n",
       "1        OTHER OFFENSES          3           4 -122.425892  37.774599   \n",
       "2        OTHER OFFENSES          3           4 -122.424363  37.800414   \n",
       "3         LARCENY/THEFT          3           4 -122.426995  37.800873   \n",
       "4         LARCENY/THEFT          3           5 -122.438738  37.771541   \n",
       "...                 ...        ...         ...         ...        ...   \n",
       "1762306             NaN          3           3 -122.408983  37.751987   \n",
       "1762307             NaN          3           4 -122.425342  37.792681   \n",
       "1762308             NaN          3           2 -122.445418  37.712075   \n",
       "1762309             NaN          3           0 -122.387394  37.739479   \n",
       "1762310             NaN          3           8 -122.489714  37.733950   \n",
       "\n",
       "                          Locations  suffix-PL  suffix-WK  suffix-WY  \\\n",
       "0               [OAK ST, LAGUNA ST]          0          0          0   \n",
       "1               [OAK ST, LAGUNA ST]          0          0          0   \n",
       "2        [VANNESS AV, GREENWICH ST]          0          0          0   \n",
       "3                      [LOMBARD ST]          0          0          0   \n",
       "4                    [BRODERICK ST]          0          0          0   \n",
       "...                             ...        ...        ...        ...   \n",
       "1762306                 [BRYANT ST]          0          0          0   \n",
       "1762307             [WASHINGTON ST]          0          0          0   \n",
       "1762308                [MISSION ST]          0          0          0   \n",
       "1762309                 [HUDSON AV]          0          0          0   \n",
       "1762310                  [SLOAT BL]          0          0          0   \n",
       "\n",
       "         suffix-AV  ...  suffix-OTHERS  Year  Month  Day  Season  IsWeekday  \\\n",
       "0                0  ...              0  2015      5    5       1          1   \n",
       "1                0  ...              0  2015      5    5       1          1   \n",
       "2                1  ...              0  2015      5    5       1          1   \n",
       "3                0  ...              0  2015      5    5       1          1   \n",
       "4                0  ...              0  2015      5    5       1          1   \n",
       "...            ...  ...            ...   ...    ...  ...     ...        ...   \n",
       "1762306          0  ...              0  2003      1    1       4          1   \n",
       "1762307          0  ...              0  2003      1    1       4          1   \n",
       "1762308          0  ...              0  2003      1    1       4          1   \n",
       "1762309          1  ...              0  2003      1    1       4          1   \n",
       "1762310          0  ...              0  2003      1    1       4          1   \n",
       "\n",
       "         Hour  HourZone  AddressType  AddressNum  \n",
       "0          23         6            0           0  \n",
       "1          23         6            0           0  \n",
       "2          23         6            0           0  \n",
       "3          23         6            1          67  \n",
       "4          23         6            1          51  \n",
       "...       ...       ...          ...         ...  \n",
       "1762306     0         1            1          78  \n",
       "1762307     0         1            1          71  \n",
       "1762308     0         1            1         107  \n",
       "1762309     0         1            1          67  \n",
       "1762310     0         1            1          67  \n",
       "\n",
       "[1762311 rows x 33 columns]"
      ]
     },
     "execution_count": 27,
     "metadata": {},
     "output_type": "execute_result"
    }
   ],
   "source": [
    "from sklearn.preprocessing import LabelEncoder\n",
    "full['PdDistrict'] = LabelEncoder().fit_transform(full['PdDistrict'])\n",
    "full['AddressNum'] = LabelEncoder().fit_transform(full['AddressNum'])\n",
    "full"
   ]
  },
  {
   "cell_type": "code",
   "execution_count": 28,
   "metadata": {},
   "outputs": [
    {
     "data": {
      "text/plain": [
       "878049"
      ]
     },
     "execution_count": 28,
     "metadata": {},
     "output_type": "execute_result"
    }
   ],
   "source": [
    "train_data = full[full['Category'].notnull()]\n",
    "test_data = full[full['Category'].isnull()]\n",
    "\n",
    "train_data.loc[train_data['Y'] > 40, 'X'] = train_data.loc[train_data['Y'] < 40, 'X'].median()\n",
    "train_data.loc[train_data['Y'] > 40, 'Y'] = train_data.loc[train_data['Y'] < 40, 'Y'].median()\n",
    "\n",
    "test_data.loc[test_data['Y'] > 40, 'X'] = train_data['X'].median()\n",
    "test_data.loc[test_data['Y'] > 40, 'Y'] = train_data['Y'].median()\n",
    "from sklearn import preprocessing\n",
    "label = preprocessing.LabelEncoder()\n",
    "target = label.fit_transform(train_data['Category'])\n",
    "len(target)"
   ]
  },
  {
   "cell_type": "code",
   "execution_count": 29,
   "metadata": {},
   "outputs": [],
   "source": [
    "from sklearn.preprocessing import StandardScaler\n",
    "scaler_x, scaler_y = StandardScaler(), StandardScaler()\n",
    "scaler_x.fit(train_data['X'].values.reshape(-1, 1))\n",
    "scaler_y.fit(train_data['Y'].values.reshape(-1, 1))\n",
    "train_data['X'] = scaler_x.transform(train_data['X'].values.reshape(-1, 1))\n",
    "test_data['X'] = scaler_x.transform(test_data['X'].values.reshape(-1, 1))\n",
    "train_data['Y'] = scaler_y.transform(train_data['Y'].values.reshape(-1, 1))\n",
    "test_data['Y'] = scaler_y.transform(test_data['Y'].values.reshape(-1, 1))"
   ]
  },
  {
   "cell_type": "code",
   "execution_count": 30,
   "metadata": {},
   "outputs": [],
   "source": [
    "train_data.drop('Locations', axis=1, inplace=True)\n",
    "test_data.drop('Locations', axis=1, inplace=True)"
   ]
  },
  {
   "cell_type": "code",
   "execution_count": 31,
   "metadata": {},
   "outputs": [],
   "source": [
    "from sklearn.model_selection import train_test_split\n",
    "temp = train_data.drop('Category', axis=1)\n",
    "X_train, X_val, y_train, y_val = train_test_split(temp, target, train_size=0.9, random_state=0)\n",
    "X_test = test_data.drop('Category', axis=1)"
   ]
  },
  {
   "cell_type": "code",
   "execution_count": 32,
   "metadata": {},
   "outputs": [],
   "source": [
    "X_train = pd.read_csv('X_train.csv')\n",
    "X_val = pd.read_csv('X_val.csv')\n",
    "X_test = pd.read_csv('X_test.csv')"
   ]
  },
  {
   "cell_type": "code",
   "execution_count": 33,
   "metadata": {},
   "outputs": [
    {
     "name": "stdout",
     "output_type": "stream",
     "text": [
      "[ 0  1  2  3  4  5  6 10 12 13 20 22 23 24 27 28 29 30]\n"
     ]
    }
   ],
   "source": [
    "from nni.algorithms.feature_engineering.gradient_selector import FeatureGradientSelector\n",
    "from nni.algorithms.feature_engineering.gbdt_selector import GBDTSelector\n",
    "selector = FeatureGradientSelector(n_features=18, classification=True)\n",
    "selector.fit(X_train, y_train)\n",
    "print(selector.get_selected_features())"
   ]
  },
  {
   "cell_type": "code",
   "execution_count": 34,
   "metadata": {},
   "outputs": [],
   "source": [
    "final_features = selector.get_selected_features()\n",
    "X_train = X_train.iloc[:, final_features]\n",
    "X_val = X_val.iloc[:, final_features]\n",
    "X_test = X_test.iloc[:, final_features]"
   ]
  },
  {
   "cell_type": "code",
   "execution_count": 35,
   "metadata": {},
   "outputs": [],
   "source": [
    "# from sklearn.naive_bayes import BernoulliNB\n",
    "# NB = BernoulliNB()\n",
    "# NB.fit(train_x, train_y)\n",
    "# valid_predicated = np.array(NB.predict_proba(valid_x))\n",
    "# print(\"NB loss: %.4f\" % (log_loss(valid_y, valid_predicated)))"
   ]
  },
  {
   "cell_type": "code",
   "execution_count": 36,
   "metadata": {},
   "outputs": [],
   "source": [
    "# from sklearn.ensemble import RandomForestClassifier\n",
    "# params = [18, 19]\n",
    "# for param in params:\n",
    "#     rfc = RandomForestClassifier(n_estimators=30, max_depth=param)\n",
    "#     rfc.fit(train_x, train_y)\n",
    "#     valid_predicated = np.array(rfc.predict_proba(valid_x))\n",
    "#     print(\"Random Forest loss: %.4f\" % (log_loss(valid_y, valid_predicated)))"
   ]
  },
  {
   "cell_type": "code",
   "execution_count": 37,
   "metadata": {},
   "outputs": [
    {
     "ename": "NameError",
     "evalue": "name 'X_valid' is not defined",
     "output_type": "error",
     "traceback": [
      "\u001b[0;31m---------------------------------------------------------------------------\u001b[0m",
      "\u001b[0;31mNameError\u001b[0m                                 Traceback (most recent call last)",
      "\u001b[0;32m<ipython-input-37-9e26c7956114>\u001b[0m in \u001b[0;36m<module>\u001b[0;34m\u001b[0m\n\u001b[1;32m      2\u001b[0m \u001b[0mrfc\u001b[0m \u001b[0;34m=\u001b[0m \u001b[0mRandomForestClassifier\u001b[0m\u001b[0;34m(\u001b[0m\u001b[0mn_estimators\u001b[0m\u001b[0;34m=\u001b[0m\u001b[0;36m40\u001b[0m\u001b[0;34m)\u001b[0m\u001b[0;34m\u001b[0m\u001b[0;34m\u001b[0m\u001b[0m\n\u001b[1;32m      3\u001b[0m \u001b[0mrfc\u001b[0m\u001b[0;34m.\u001b[0m\u001b[0mfit\u001b[0m\u001b[0;34m(\u001b[0m\u001b[0mX_train\u001b[0m\u001b[0;34m,\u001b[0m \u001b[0my_train\u001b[0m\u001b[0;34m)\u001b[0m\u001b[0;34m\u001b[0m\u001b[0;34m\u001b[0m\u001b[0m\n\u001b[0;32m----> 4\u001b[0;31m \u001b[0mprint\u001b[0m\u001b[0;34m(\u001b[0m\u001b[0mrfc\u001b[0m\u001b[0;34m.\u001b[0m\u001b[0mscore\u001b[0m\u001b[0;34m(\u001b[0m\u001b[0mX_valid\u001b[0m\u001b[0;34m,\u001b[0m \u001b[0my_valid\u001b[0m\u001b[0;34m)\u001b[0m\u001b[0;34m)\u001b[0m\u001b[0;34m\u001b[0m\u001b[0;34m\u001b[0m\u001b[0m\n\u001b[0m",
      "\u001b[0;31mNameError\u001b[0m: name 'X_valid' is not defined"
     ]
    }
   ],
   "source": [
    "from sklearn.ensemble import RandomForestClassifier\n",
    "rfc = RandomForestClassifier(n_estimators=40)\n",
    "rfc.fit(X_train, y_train)\n"
   ]
  },
  {
   "cell_type": "code",
   "execution_count": 38,
   "metadata": {},
   "outputs": [
    {
     "name": "stdout",
     "output_type": "stream",
     "text": [
      "0.29945902852912704\n"
     ]
    }
   ],
   "source": [
    "print(rfc.score(X_val, y_val))"
   ]
  },
  {
   "cell_type": "code",
   "execution_count": null,
   "metadata": {},
   "outputs": [],
   "source": [
    "pred = rfc.predict_proba(X_test)\n",
    "pred"
   ]
  },
  {
   "cell_type": "code",
   "execution_count": null,
   "metadata": {},
   "outputs": [],
   "source": [
    "for i in range(pred.shape[0]):\n",
    "    pred[i, np.argmax(pred[i])] = 1\n",
    "temp = pred.astype(int)\n",
    "temp"
   ]
  },
  {
   "cell_type": "code",
   "execution_count": null,
   "metadata": {},
   "outputs": [],
   "source": [
    "ans = pd.DataFrame(temp, columns=label.classes_)\n",
    "# ans.to_csv('submission0305.csv.gz', index=False, compression='gzip')"
   ]
  },
  {
   "cell_type": "code",
   "execution_count": null,
   "metadata": {
    "scrolled": false
   },
   "outputs": [],
   "source": [
    "temp2 = pd.DataFrame(test_id.values.T)\n",
    "ans.insert(0, 'Id', temp2)\n",
    "ans.to_csv('submission0305.csv.gz', index=False, index_label='Id', compression='gzip')"
   ]
  },
  {
   "cell_type": "code",
   "execution_count": null,
   "metadata": {},
   "outputs": [],
   "source": [
    "rfc.score(X_train, y_train)"
   ]
  },
  {
   "cell_type": "code",
   "execution_count": null,
   "metadata": {},
   "outputs": [],
   "source": [
    "sbsbsbsbsb"
   ]
  },
  {
   "cell_type": "code",
   "execution_count": null,
   "metadata": {},
   "outputs": [],
   "source": [
    "import lightgbm as lgb\n",
    "lgb_train = lgb.Dataset(X_train, y_train)\n",
    "lgb_val = lgb.Dataset(X_val, y_val, reference=lgb_train)\n",
    "params_lgb = {\n",
    "    'learning_rate': 0.1,\n",
    "    'lambda_l1': 0.1,\n",
    "    'lambda_l2': 0.2,\n",
    "    'objective': 'multiclass',\n",
    "    'num_class': 39,\n",
    "    'n_jobs': -1,\n",
    "    \n",
    "}\n",
    "clf = lgb.train(params_lgb, train_set=lgb_train, valid_sets=lgb_val, num_boost_round=1000, verbose_eval=50)\n",
    "# epoch can be larger"
   ]
  },
  {
   "cell_type": "code",
   "execution_count": null,
   "metadata": {},
   "outputs": [],
   "source": [
    "pred = clf.predict(X_test)\n",
    "for i in range(pred.shape[0]):\n",
    "    pred[i, np.argmax(pred[i])] = 1\n",
    "temp = pred.astype(int)\n",
    "temp"
   ]
  },
  {
   "cell_type": "code",
   "execution_count": null,
   "metadata": {},
   "outputs": [],
   "source": [
    "df = pd.DataFrame(temp, columns=label.classes_)\n",
    "df.insert(0, 'Id', test['Id'])\n",
    "df.to_csv('baseline0305.csv.gz', index=False, compression='gzip')"
   ]
  }
 ],
 "metadata": {
  "kernelspec": {
   "display_name": "Python 3",
   "language": "python",
   "name": "python3"
  },
  "language_info": {
   "codemirror_mode": {
    "name": "ipython",
    "version": 3
   },
   "file_extension": ".py",
   "mimetype": "text/x-python",
   "name": "python",
   "nbconvert_exporter": "python",
   "pygments_lexer": "ipython3",
   "version": "3.8.5"
  }
 },
 "nbformat": 4,
 "nbformat_minor": 4
}